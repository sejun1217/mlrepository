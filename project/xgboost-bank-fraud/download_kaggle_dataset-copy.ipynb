{
 "cells": [
  {
   "cell_type": "markdown",
   "metadata": {},
   "source": [
    "## Kaggle Dataset 다운로드 방법\n",
    "\n",
    "여기의 가이드는 아래 참조 페이지를 바탕으로 작성 했습니다.\n",
    "\n",
    "참조\n",
    "- https://github.com/Kaggle/kaggle-api\n",
    "\n"
   ]
  },
  {
   "cell_type": "markdown",
   "metadata": {},
   "source": [
    "## Kaggle Python 패키지 다운로드\n",
    "kaggle 패키지를 다운로드 받습니다."
   ]
  },
  {
   "cell_type": "code",
   "execution_count": 1,
   "metadata": {},
   "outputs": [
    {
     "name": "stdout",
     "output_type": "stream",
     "text": [
      "Requirement already satisfied: kaggle in /home/ec2-user/.local/lib/python3.6/site-packages (1.5.10)\n",
      "Requirement already satisfied: python-slugify in /home/ec2-user/.local/lib/python3.6/site-packages (from kaggle) (4.0.1)\n",
      "Requirement already satisfied: tqdm in /home/ec2-user/anaconda3/envs/python3/lib/python3.6/site-packages (from kaggle) (4.42.1)\n",
      "Requirement already satisfied: python-dateutil in /home/ec2-user/anaconda3/envs/python3/lib/python3.6/site-packages (from kaggle) (2.8.1)\n",
      "Requirement already satisfied: requests in /home/ec2-user/anaconda3/envs/python3/lib/python3.6/site-packages (from kaggle) (2.22.0)\n",
      "Requirement already satisfied: urllib3 in /home/ec2-user/anaconda3/envs/python3/lib/python3.6/site-packages (from kaggle) (1.25.11)\n",
      "Requirement already satisfied: certifi in /home/ec2-user/anaconda3/envs/python3/lib/python3.6/site-packages (from kaggle) (2020.6.20)\n",
      "Requirement already satisfied: six>=1.10 in /home/ec2-user/anaconda3/envs/python3/lib/python3.6/site-packages (from kaggle) (1.14.0)\n",
      "Requirement already satisfied: text-unidecode>=1.3 in /home/ec2-user/.local/lib/python3.6/site-packages (from python-slugify->kaggle) (1.3)\n",
      "Requirement already satisfied: idna<2.9,>=2.5 in /home/ec2-user/anaconda3/envs/python3/lib/python3.6/site-packages (from requests->kaggle) (2.8)\n",
      "Requirement already satisfied: chardet<3.1.0,>=3.0.2 in /home/ec2-user/anaconda3/envs/python3/lib/python3.6/site-packages (from requests->kaggle) (3.0.4)\n"
     ]
    }
   ],
   "source": [
    "! pip install --user kaggle"
   ]
  },
  {
   "cell_type": "markdown",
   "metadata": {},
   "source": [
    "## kaggle.json 다운로드 및 업로드\n",
    "- 케글 홈페이지 이동 ( https://www.kaggle.com )\n",
    "- 계정 로그인 (없으면 생성하세요)\n",
    "- 개인 Profile 로 이동 (페이지 오른쪽 상단에 본인 사진 클릭)\n",
    "- Account 탭에서 Create New API Token 클릭\n",
    "    - ![create_kaggle_json.png](img/create_kaggle_json.png)\n"
   ]
  },
  {
   "cell_type": "markdown",
   "metadata": {},
   "source": [
    "위의 작업 이후에 kaggle.json 이 로컬 컴퓨터에 다운로드 됩니다. \n",
    "- kaggle.json 은 kaggle에 접속하기 위한 인증 정보가 있습니다.\n",
    "- 이후 kaggle.json 파일 다운로드 후에 노트북 인스턴스에 업로드\n",
    "    - 이후 현재 폴더 위치 ( ~/MLBootCamp/banking-fraud/ ) 에 업로드 함\n",
    "        - ![kaggle_json_file.png](img/kaggle_json_file.png)\n",
    "\n"
   ]
  },
  {
   "cell_type": "markdown",
   "metadata": {},
   "source": [
    "## Kaggle Dataset API 카피\n",
    "아래 처럼 다운로드 받고자 하는 Kaggle 페이지로 이동하신 후에 클릭 하시면 API 명령어가 복사 됩니다. ( ```kaggle datasets download -d ntnu-testimon/paysim1``` )\n",
    "- ![Kaggle_API.png](img/Kaggle_API.png)\n",
    "    - "
   ]
  },
  {
   "cell_type": "markdown",
   "metadata": {},
   "source": [
    "## 업로딩한 kaggle.json 파일 카피\n",
    "로컬 노트북에 업로딩한 kaggle.json 으로 이제 다운로드 해보겠습니다.\n"
   ]
  },
  {
   "cell_type": "code",
   "execution_count": 2,
   "metadata": {},
   "outputs": [],
   "source": [
    "downlaod_dir = 'download_data' # 다운로드 폴더\n",
    "data_dir = 'data' # 다운로드 한 파일을 압축한 후에 저장할 폴더"
   ]
  },
  {
   "cell_type": "markdown",
   "metadata": {},
   "source": [
    "아래 셀을 실행해서 403 Forbidden 에러가 발생하면, Kaggle 해당 페이지에 들어가서 약관에 동의 (Understand and Agree) 를 클릭 하시면 됩니다."
   ]
  },
  {
   "cell_type": "code",
   "execution_count": 3,
   "metadata": {},
   "outputs": [
    {
     "name": "stdout",
     "output_type": "stream",
     "text": [
      "Downloading paysim1.zip to download_data\n",
      "\n"
     ]
    },
    {
     "name": "stderr",
     "output_type": "stream",
     "text": [
      "100%|██████████| 178M/178M [00:04<00:00, 42.1MB/s] \n"
     ]
    }
   ],
   "source": [
    "%%sh -s {downlaod_dir} # Shell 에 downlaod_dir 폴더 인자로 넘김\n",
    "mkdir -p ~/.kaggle # 유저의 홈디렉토리에 .kaggle 폴더 생성\n",
    "cp kaggle.json ~/.kaggle/kaggle.json # 현재 폴더의 kaggle.json 파일을 복사\n",
    "chmod 600 ~/.kaggle/kaggle.json # kaggle.json을 오너만 읽기, 쓰기 권한 할당\n",
    "\n",
    "export PATH=$PATH:/home/ec2-user/.local/bin # kaggle 명령어를 실행어를 어디서나 실행하기 위해 Path 설정\n",
    "# 아래 명령어는 위에서 Kaggle Dataset API 복사 된 것을 붙이기 하세요\n",
    "# 그리고 $1 만 붙여 주세요\n",
    "kaggle datasets download ntnu-testimon/paysim1 -p $1 # kaggle 명령어 실행해서 다운로드\n"
   ]
  },
  {
   "cell_type": "markdown",
   "metadata": {},
   "source": [
    "## 데이터 압축 해제"
   ]
  },
  {
   "cell_type": "code",
   "execution_count": 4,
   "metadata": {},
   "outputs": [
    {
     "name": "stdout",
     "output_type": "stream",
     "text": [
      "Archive:  download_data/paysim1.zip\n",
      "  inflating: data/PS_20174392719_1491204439457_log.csv  \n"
     ]
    }
   ],
   "source": [
    "%%sh -s {downlaod_dir}  {data_dir}\n",
    "mkdir -p $2 # data_dir 폴더 생성\n",
    "unzip  $1/paysim1.zip -d $2 \n",
    "rm -rf $1 # downlaod_dir 폴더 제거"
   ]
  },
  {
   "cell_type": "markdown",
   "metadata": {},
   "source": [
    "## 데이터 다운로드 완료\n",
    "data 폴더에 가셔서 데이터가 있는지 확인 하세요"
   ]
  },
  {
   "cell_type": "code",
   "execution_count": null,
   "metadata": {},
   "outputs": [],
   "source": []
  }
 ],
 "metadata": {
  "kernelspec": {
   "display_name": "conda_python3",
   "language": "python",
   "name": "conda_python3"
  },
  "language_info": {
   "codemirror_mode": {
    "name": "ipython",
    "version": 3
   },
   "file_extension": ".py",
   "mimetype": "text/x-python",
   "name": "python",
   "nbconvert_exporter": "python",
   "pygments_lexer": "ipython3",
   "version": "3.6.10"
  }
 },
 "nbformat": 4,
 "nbformat_minor": 4
}
